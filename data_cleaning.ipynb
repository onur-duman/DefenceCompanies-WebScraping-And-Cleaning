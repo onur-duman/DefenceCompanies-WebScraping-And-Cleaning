{
 "cells": [
  {
   "cell_type": "code",
   "execution_count": 11,
   "metadata": {},
   "outputs": [],
   "source": [
    "import pandas as pd\n",
    "import numpy as np"
   ]
  },
  {
   "cell_type": "markdown",
   "metadata": {},
   "source": [
    "### First-Looking and Determining Problems"
   ]
  },
  {
   "cell_type": "code",
   "execution_count": 12,
   "metadata": {},
   "outputs": [
    {
     "data": {
      "text/html": [
       "<div>\n",
       "<style scoped>\n",
       "    .dataframe tbody tr th:only-of-type {\n",
       "        vertical-align: middle;\n",
       "    }\n",
       "\n",
       "    .dataframe tbody tr th {\n",
       "        vertical-align: top;\n",
       "    }\n",
       "\n",
       "    .dataframe thead th {\n",
       "        text-align: right;\n",
       "    }\n",
       "</style>\n",
       "<table border=\"1\" class=\"dataframe\">\n",
       "  <thead>\n",
       "    <tr style=\"text-align: right;\">\n",
       "      <th></th>\n",
       "      <th>Year</th>\n",
       "      <th>Rank</th>\n",
       "      <th>Company</th>\n",
       "      <th>Leadership</th>\n",
       "      <th>Country</th>\n",
       "      <th>Defense_Revenue_From_A_Year_Ago</th>\n",
       "      <th>Defense_Revenue_From_Two_Years_Ago</th>\n",
       "      <th>%Defense Revenue Change</th>\n",
       "      <th>Total Revenue</th>\n",
       "      <th>%of Revenue from Defence</th>\n",
       "    </tr>\n",
       "  </thead>\n",
       "  <tbody>\n",
       "    <tr>\n",
       "      <td>0</td>\n",
       "      <td>2020</td>\n",
       "      <td>1</td>\n",
       "      <td>Lockheed Martin 1</td>\n",
       "      <td>James D. Taiclet, President and CEO *</td>\n",
       "      <td>U.S.</td>\n",
       "      <td>$56,606.00</td>\n",
       "      <td>$50,536.00</td>\n",
       "      <td>12%</td>\n",
       "      <td>$59,812.00</td>\n",
       "      <td>95%</td>\n",
       "    </tr>\n",
       "    <tr>\n",
       "      <td>1</td>\n",
       "      <td>2020</td>\n",
       "      <td>2</td>\n",
       "      <td>Boeing</td>\n",
       "      <td>David Calhoun, President and CEO *</td>\n",
       "      <td>U.S.</td>\n",
       "      <td>$34,300.00</td>\n",
       "      <td>$34,050.00</td>\n",
       "      <td>1%</td>\n",
       "      <td>$76,559.00</td>\n",
       "      <td>45%</td>\n",
       "    </tr>\n",
       "    <tr>\n",
       "      <td>2</td>\n",
       "      <td>2020</td>\n",
       "      <td>3</td>\n",
       "      <td>General Dynamics 2</td>\n",
       "      <td>Phebe Novakovic, Chairman and CEO</td>\n",
       "      <td>U.S.</td>\n",
       "      <td>$29,512.00</td>\n",
       "      <td>$27,507.00</td>\n",
       "      <td>7%</td>\n",
       "      <td>$39,350.00</td>\n",
       "      <td>75%</td>\n",
       "    </tr>\n",
       "    <tr>\n",
       "      <td>3</td>\n",
       "      <td>2020</td>\n",
       "      <td>4</td>\n",
       "      <td>Northrop Grumman</td>\n",
       "      <td>Kathy J. Warden, Chairman, CEO and President</td>\n",
       "      <td>U.S.</td>\n",
       "      <td>$28,600.00</td>\n",
       "      <td>$25,300.00</td>\n",
       "      <td>13%</td>\n",
       "      <td>$33,841.00</td>\n",
       "      <td>85%</td>\n",
       "    </tr>\n",
       "    <tr>\n",
       "      <td>4</td>\n",
       "      <td>2020</td>\n",
       "      <td>5</td>\n",
       "      <td>Raytheon Company 1 3</td>\n",
       "      <td>Thomas Kennedy, Chairman and CEO</td>\n",
       "      <td>U.S.</td>\n",
       "      <td>$27,448.00</td>\n",
       "      <td>$25,163.94</td>\n",
       "      <td>9%</td>\n",
       "      <td>$29,200.00</td>\n",
       "      <td>94%</td>\n",
       "    </tr>\n",
       "  </tbody>\n",
       "</table>\n",
       "</div>"
      ],
      "text/plain": [
       "   Year  Rank               Company  \\\n",
       "0  2020     1     Lockheed Martin 1   \n",
       "1  2020     2                Boeing   \n",
       "2  2020     3    General Dynamics 2   \n",
       "3  2020     4      Northrop Grumman   \n",
       "4  2020     5  Raytheon Company 1 3   \n",
       "\n",
       "                                     Leadership Country  \\\n",
       "0         James D. Taiclet, President and CEO *    U.S.   \n",
       "1            David Calhoun, President and CEO *    U.S.   \n",
       "2             Phebe Novakovic, Chairman and CEO    U.S.   \n",
       "3  Kathy J. Warden, Chairman, CEO and President    U.S.   \n",
       "4              Thomas Kennedy, Chairman and CEO    U.S.   \n",
       "\n",
       "  Defense_Revenue_From_A_Year_Ago Defense_Revenue_From_Two_Years_Ago  \\\n",
       "0                      $56,606.00                         $50,536.00   \n",
       "1                      $34,300.00                         $34,050.00   \n",
       "2                      $29,512.00                         $27,507.00   \n",
       "3                      $28,600.00                         $25,300.00   \n",
       "4                      $27,448.00                         $25,163.94   \n",
       "\n",
       "  %Defense Revenue Change Total Revenue %of Revenue from Defence  \n",
       "0                     12%    $59,812.00                      95%  \n",
       "1                      1%    $76,559.00                      45%  \n",
       "2                      7%    $39,350.00                      75%  \n",
       "3                     13%    $33,841.00                      85%  \n",
       "4                      9%    $29,200.00                      94%  "
      ]
     },
     "execution_count": 12,
     "metadata": {},
     "output_type": "execute_result"
    }
   ],
   "source": [
    "defence_companies = pd.read_csv(\"defence_companies_from_2005.csv\")\n",
    "df = defence_companies.copy()\n",
    "df.head()"
   ]
  },
  {
   "cell_type": "code",
   "execution_count": 13,
   "metadata": {},
   "outputs": [
    {
     "name": "stdout",
     "output_type": "stream",
     "text": [
      "<class 'pandas.core.frame.DataFrame'>\n",
      "RangeIndex: 1600 entries, 0 to 1599\n",
      "Data columns (total 10 columns):\n",
      "Year                                  1600 non-null int64\n",
      "Rank                                  1600 non-null int64\n",
      "Company                               1600 non-null object\n",
      "Leadership                            1600 non-null object\n",
      "Country                               1600 non-null object\n",
      "Defense_Revenue_From_A_Year_Ago       1600 non-null object\n",
      "Defense_Revenue_From_Two_Years_Ago    1582 non-null object\n",
      "%Defense Revenue Change               1087 non-null object\n",
      "Total Revenue                         1595 non-null object\n",
      "%of Revenue from Defence              1595 non-null object\n",
      "dtypes: int64(2), object(8)\n",
      "memory usage: 125.1+ KB\n"
     ]
    }
   ],
   "source": [
    "df.info()"
   ]
  },
  {
   "cell_type": "markdown",
   "metadata": {},
   "source": [
    "<b>Interpretation of the Head and Info Outputs</b>\n",
    "<hr>\n",
    "<b>Company: </b>There are numbers with company names but they should not be there.<br>\n",
    "<b>Country: </b>We should look its inside, is there a different short country name which mean are same<br>\n",
    "<b>Defense_Revenue_From_A_Year_Ago: </b>We should change type and look its inside too. Is there different type from float.<br>\n",
    "<b>Defense_Revenue_From_Two_Years_Ago: </b>Interpretation is same with \"Defense_Revenue_From_A_Year_Ago\"<br>\n",
    "<b>%Defense Revenue Change: </b>There are a lot of null values which i expect. When we look the revenues, Both do not have null values as its. We can fill most of them thanks to both of revenues<br>\n",
    "<b>Total Revenue: </b>Interpretation is same with \"Defense_Revenue_From_A_Year_Ago\"<br>\n",
    "<b>%of Revenue from Defence : </b>Interpretation is same with \"Defense_Revenue_From_A_Year_Ago\"<br>\n",
    "\n",
    "\n"
   ]
  },
  {
   "cell_type": "code",
   "execution_count": 14,
   "metadata": {},
   "outputs": [
    {
     "data": {
      "text/plain": [
       "array(['U.S.', 'China', 'U.K.', 'Netherlands/France', 'Italy', 'France',\n",
       "       'Russia', 'Japan', 'Israel', 'South Korea', 'Germany', 'Sweden',\n",
       "       'Netherlands', 'India', 'Turkey', 'Singapore', 'Australia',\n",
       "       'Canada', 'Switzerland', 'Norway', 'Brazil', 'Spain', 'Belgium',\n",
       "       'Finland', 'South Africa', 'Ukraine', 'US', 'UK', 'canada',\n",
       "       'Swiss', 'So. Korea', 'So Africa', 'Ireland', 'Kuwait', 'Korea',\n",
       "       'U.S', 'S. Africa'], dtype=object)"
      ]
     },
     "execution_count": 14,
     "metadata": {},
     "output_type": "execute_result"
    }
   ],
   "source": [
    "df.Country.unique()"
   ]
  },
  {
   "cell_type": "markdown",
   "metadata": {},
   "source": [
    "<b>There are more than one short country name which mean are same. We have to fix it.</b><br>\n",
    "<b>Examples: </b><br>\n",
    "\"U.S.\", \"U.S\", \"US\" -> USA<br>\n",
    "\"So. Korea\", \"South Korea\", \"Korea(This is not from North, You can check the companies)\" -> South Korea<br>\n",
    "\"Swiss\", \"Switzerland\" -> Switzerland<br>\n",
    "\"S. Africa\", \"So Africa\" -> South Africa<br><br>\n",
    "<b>There is a Upper-Lower Problem</b><br>\n",
    "<b>Examples: </b><br>\n",
    "\"canada\" -> Canada<br><br>\n",
    "<b>There is a company which belongs to two countries(Netherlands/France): Airbus. We will fix it</b><br>\n",
    "\"Netherlands/France\" -> Netherlands and France\n"
   ]
  },
  {
   "cell_type": "markdown",
   "metadata": {},
   "source": [
    "### Fixing Company Column"
   ]
  },
  {
   "cell_type": "code",
   "execution_count": 15,
   "metadata": {},
   "outputs": [],
   "source": [
    "a = df.Company.str.replace(\"\\d\",\"\") # To Remove Numbers\n",
    "a = a.str.replace(\"[^\\w\\s]\",\"\") # To Remove Punctuations\n",
    "a = a.str.strip() # To Remove Space Characters\n",
    "\n",
    "df[\"Company\"] = a"
   ]
  },
  {
   "cell_type": "markdown",
   "metadata": {},
   "source": [
    "### Fixing Country Column"
   ]
  },
  {
   "cell_type": "code",
   "execution_count": 16,
   "metadata": {},
   "outputs": [
    {
     "name": "stderr",
     "output_type": "stream",
     "text": [
      "C:\\ProgramData\\Anaconda3\\lib\\site-packages\\pandas\\core\\generic.py:5208: SettingWithCopyWarning: \n",
      "A value is trying to be set on a copy of a slice from a DataFrame.\n",
      "Try using .loc[row_indexer,col_indexer] = value instead\n",
      "\n",
      "See the caveats in the documentation: http://pandas.pydata.org/pandas-docs/stable/user_guide/indexing.html#returning-a-view-versus-a-copy\n",
      "  self[name] = value\n"
     ]
    }
   ],
   "source": [
    "df[\"Country\"] = df[\"Country\"].str.replace(\"So Africa\",\"South Africa\").replace(\"S. Africa\",\"South Africa\")\n",
    "df[\"Country\"] = df[\"Country\"].str.replace(\"U.S.\",\"USA\").replace(\"US\",\"USA\").replace(\"U.S\",\"USA\")\n",
    "df[\"Country\"] = df[\"Country\"].str.replace(\"U.K.\",\"United Kingdom\").replace(\"UK\",\"United Kingdom\")\n",
    "df[\"Country\"] = df[\"Country\"].str.replace(\"So. Korea\",\"South Korea\").replace(\"Korea\",\"South Korea\")\n",
    "df[\"Country\"] = df[\"Country\"].str.replace(\"canada\",\"Canada\").replace(\"Swiss\",\"Switzerland\")\n",
    "b = df[df.Country == \"Netherlands/France\"]\n",
    "b.Country = [\"France\"] * 4 \n",
    "df = df.append(b, ignore_index=True)\n",
    "df.Country = df.Country.apply(lambda x: x.split(\"/\")[0] if \"/\" in x else x)\n"
   ]
  },
  {
   "cell_type": "markdown",
   "metadata": {},
   "source": [
    "### Fixing Defense_Revenue_From_Last_Year Column"
   ]
  },
  {
   "cell_type": "markdown",
   "metadata": {},
   "source": [
    "<b>The column includes such as 778.0.9 value, we should change it to 778.09 before doing float. I understood to be 778.09 from its upper and lower companies revenue.</b>"
   ]
  },
  {
   "cell_type": "code",
   "execution_count": 17,
   "metadata": {},
   "outputs": [],
   "source": [
    "df[\"Defense_Revenue_From_A_Year_Ago\"] = df[\"Defense_Revenue_From_A_Year_Ago\"].str.replace(\",\",\"\")\n",
    "df[\"Defense_Revenue_From_A_Year_Ago\"] = df[\"Defense_Revenue_From_A_Year_Ago\"].str.replace(\"$\",\"\")\n",
    "df.iloc[1072,5] = \"778.09\"\n",
    "df[\"Defense_Revenue_From_A_Year_Ago\"] = df[\"Defense_Revenue_From_A_Year_Ago\"].astype(np.float32)\n"
   ]
  },
  {
   "cell_type": "markdown",
   "metadata": {},
   "source": [
    "### Fixing Defense_Revenue_From_Two_Years_Ago Column"
   ]
  },
  {
   "cell_type": "markdown",
   "metadata": {},
   "source": [
    "<b>The column includes such as \"~\", \"-\" and \"NR\" values</b>"
   ]
  },
  {
   "cell_type": "code",
   "execution_count": 18,
   "metadata": {},
   "outputs": [],
   "source": [
    "df[\"Defense_Revenue_From_Two_Years_Ago\"] = df[\"Defense_Revenue_From_Two_Years_Ago\"].str.replace(\",\",\"\")\n",
    "df[\"Defense_Revenue_From_Two_Years_Ago\"] = df[\"Defense_Revenue_From_Two_Years_Ago\"].str.replace(\"$\",\"\")\n",
    "df[\"Defense_Revenue_From_Two_Years_Ago\"] = df[\"Defense_Revenue_From_Two_Years_Ago\"].apply(lambda x: np.nan if (x==\"~\" or x==\"-\" or x==\"NR\") else x)\n",
    "df[\"Defense_Revenue_From_Two_Years_Ago\"] = df[\"Defense_Revenue_From_Two_Years_Ago\"].astype(np.float32)\n"
   ]
  },
  {
   "cell_type": "markdown",
   "metadata": {},
   "source": [
    "### Fixing Total Revenue Column"
   ]
  },
  {
   "cell_type": "markdown",
   "metadata": {},
   "source": [
    "<b>The column includes such as \"~\", \"-\" and \"NR\" values</b>"
   ]
  },
  {
   "cell_type": "code",
   "execution_count": 19,
   "metadata": {},
   "outputs": [],
   "source": [
    "df[\"Total Revenue\"] = df[\"Total Revenue\"].str.replace(\",\",\"\")\n",
    "df[\"Total Revenue\"] = df[\"Total Revenue\"].str.replace(\"$\",\"\")\n",
    "df[\"Total Revenue\"] = df[\"Total Revenue\"].apply(lambda x: np.nan if (x==\"~\" or x==\"-\" or x==\"NR\") else x)\n",
    "df[\"Total Revenue\"] = df[\"Total Revenue\"].astype(np.float32)"
   ]
  },
  {
   "cell_type": "markdown",
   "metadata": {},
   "source": [
    "### Updating %Defense Revenue Change Column From Revenues Which One and Two Years Ago"
   ]
  },
  {
   "cell_type": "code",
   "execution_count": 20,
   "metadata": {},
   "outputs": [],
   "source": [
    "a = ((df[\"Defense_Revenue_From_A_Year_Ago\"]-df[\"Defense_Revenue_From_Two_Years_Ago\"])/df[\"Defense_Revenue_From_Two_Years_Ago\"])*100\n",
    "df[\"%Defense Revenue Change\"] = a"
   ]
  },
  {
   "cell_type": "markdown",
   "metadata": {},
   "source": [
    "### Updating %of Revenue from Defence Column From Revenues Which Total and A Year Ago"
   ]
  },
  {
   "cell_type": "code",
   "execution_count": 21,
   "metadata": {},
   "outputs": [],
   "source": [
    "df[\"%of Revenue from Defence\"] = df[\"Defense_Revenue_From_A_Year_Ago\"] / df[\"Total Revenue\"] * 100"
   ]
  },
  {
   "cell_type": "markdown",
   "metadata": {},
   "source": [
    "### Changing Float Columns Fraction View"
   ]
  },
  {
   "cell_type": "code",
   "execution_count": 22,
   "metadata": {},
   "outputs": [],
   "source": [
    "pd.options.display.float_format = \"{:,.2f}\".format\n"
   ]
  },
  {
   "cell_type": "markdown",
   "metadata": {},
   "source": [
    "### Last Status"
   ]
  },
  {
   "cell_type": "code",
   "execution_count": 23,
   "metadata": {},
   "outputs": [
    {
     "data": {
      "text/html": [
       "<div>\n",
       "<style scoped>\n",
       "    .dataframe tbody tr th:only-of-type {\n",
       "        vertical-align: middle;\n",
       "    }\n",
       "\n",
       "    .dataframe tbody tr th {\n",
       "        vertical-align: top;\n",
       "    }\n",
       "\n",
       "    .dataframe thead th {\n",
       "        text-align: right;\n",
       "    }\n",
       "</style>\n",
       "<table border=\"1\" class=\"dataframe\">\n",
       "  <thead>\n",
       "    <tr style=\"text-align: right;\">\n",
       "      <th></th>\n",
       "      <th>Year</th>\n",
       "      <th>Rank</th>\n",
       "      <th>Company</th>\n",
       "      <th>Leadership</th>\n",
       "      <th>Country</th>\n",
       "      <th>Defense_Revenue_From_A_Year_Ago</th>\n",
       "      <th>Defense_Revenue_From_Two_Years_Ago</th>\n",
       "      <th>%Defense Revenue Change</th>\n",
       "      <th>Total Revenue</th>\n",
       "      <th>%of Revenue from Defence</th>\n",
       "    </tr>\n",
       "  </thead>\n",
       "  <tbody>\n",
       "    <tr>\n",
       "      <td>0</td>\n",
       "      <td>2020</td>\n",
       "      <td>1</td>\n",
       "      <td>Lockheed Martin</td>\n",
       "      <td>James D. Taiclet, President and CEO *</td>\n",
       "      <td>USA</td>\n",
       "      <td>56,606.00</td>\n",
       "      <td>50,536.00</td>\n",
       "      <td>12.01</td>\n",
       "      <td>59,812.00</td>\n",
       "      <td>94.64</td>\n",
       "    </tr>\n",
       "    <tr>\n",
       "      <td>1</td>\n",
       "      <td>2020</td>\n",
       "      <td>2</td>\n",
       "      <td>Boeing</td>\n",
       "      <td>David Calhoun, President and CEO *</td>\n",
       "      <td>USA</td>\n",
       "      <td>34,300.00</td>\n",
       "      <td>34,050.00</td>\n",
       "      <td>0.73</td>\n",
       "      <td>76,559.00</td>\n",
       "      <td>44.80</td>\n",
       "    </tr>\n",
       "    <tr>\n",
       "      <td>2</td>\n",
       "      <td>2020</td>\n",
       "      <td>3</td>\n",
       "      <td>General Dynamics</td>\n",
       "      <td>Phebe Novakovic, Chairman and CEO</td>\n",
       "      <td>USA</td>\n",
       "      <td>29,512.00</td>\n",
       "      <td>27,507.00</td>\n",
       "      <td>7.29</td>\n",
       "      <td>39,350.00</td>\n",
       "      <td>75.00</td>\n",
       "    </tr>\n",
       "    <tr>\n",
       "      <td>3</td>\n",
       "      <td>2020</td>\n",
       "      <td>4</td>\n",
       "      <td>Northrop Grumman</td>\n",
       "      <td>Kathy J. Warden, Chairman, CEO and President</td>\n",
       "      <td>USA</td>\n",
       "      <td>28,600.00</td>\n",
       "      <td>25,300.00</td>\n",
       "      <td>13.04</td>\n",
       "      <td>33,841.00</td>\n",
       "      <td>84.51</td>\n",
       "    </tr>\n",
       "    <tr>\n",
       "      <td>4</td>\n",
       "      <td>2020</td>\n",
       "      <td>5</td>\n",
       "      <td>Raytheon Company</td>\n",
       "      <td>Thomas Kennedy, Chairman and CEO</td>\n",
       "      <td>USA</td>\n",
       "      <td>27,448.00</td>\n",
       "      <td>25,163.94</td>\n",
       "      <td>9.08</td>\n",
       "      <td>29,200.00</td>\n",
       "      <td>94.00</td>\n",
       "    </tr>\n",
       "  </tbody>\n",
       "</table>\n",
       "</div>"
      ],
      "text/plain": [
       "   Year  Rank           Company                                    Leadership  \\\n",
       "0  2020     1   Lockheed Martin         James D. Taiclet, President and CEO *   \n",
       "1  2020     2            Boeing            David Calhoun, President and CEO *   \n",
       "2  2020     3  General Dynamics             Phebe Novakovic, Chairman and CEO   \n",
       "3  2020     4  Northrop Grumman  Kathy J. Warden, Chairman, CEO and President   \n",
       "4  2020     5  Raytheon Company              Thomas Kennedy, Chairman and CEO   \n",
       "\n",
       "  Country  Defense_Revenue_From_A_Year_Ago  \\\n",
       "0     USA                        56,606.00   \n",
       "1     USA                        34,300.00   \n",
       "2     USA                        29,512.00   \n",
       "3     USA                        28,600.00   \n",
       "4     USA                        27,448.00   \n",
       "\n",
       "   Defense_Revenue_From_Two_Years_Ago  %Defense Revenue Change  Total Revenue  \\\n",
       "0                           50,536.00                    12.01      59,812.00   \n",
       "1                           34,050.00                     0.73      76,559.00   \n",
       "2                           27,507.00                     7.29      39,350.00   \n",
       "3                           25,300.00                    13.04      33,841.00   \n",
       "4                           25,163.94                     9.08      29,200.00   \n",
       "\n",
       "   %of Revenue from Defence  \n",
       "0                     94.64  \n",
       "1                     44.80  \n",
       "2                     75.00  \n",
       "3                     84.51  \n",
       "4                     94.00  "
      ]
     },
     "execution_count": 23,
     "metadata": {},
     "output_type": "execute_result"
    }
   ],
   "source": [
    "df.head()"
   ]
  },
  {
   "cell_type": "code",
   "execution_count": 24,
   "metadata": {},
   "outputs": [
    {
     "name": "stdout",
     "output_type": "stream",
     "text": [
      "<class 'pandas.core.frame.DataFrame'>\n",
      "RangeIndex: 1604 entries, 0 to 1603\n",
      "Data columns (total 10 columns):\n",
      "Year                                  1604 non-null int64\n",
      "Rank                                  1604 non-null int64\n",
      "Company                               1604 non-null object\n",
      "Leadership                            1604 non-null object\n",
      "Country                               1604 non-null object\n",
      "Defense_Revenue_From_A_Year_Ago       1604 non-null float32\n",
      "Defense_Revenue_From_Two_Years_Ago    1555 non-null float32\n",
      "%Defense Revenue Change               1555 non-null float32\n",
      "Total Revenue                         1586 non-null float32\n",
      "%of Revenue from Defence              1586 non-null float32\n",
      "dtypes: float32(5), int64(2), object(3)\n",
      "memory usage: 94.1+ KB\n"
     ]
    }
   ],
   "source": [
    "df.info()"
   ]
  },
  {
   "cell_type": "code",
   "execution_count": 25,
   "metadata": {},
   "outputs": [],
   "source": [
    "df.to_csv(\"defence_companies_from_2005_cleaned\", index=False, header=True)"
   ]
  }
 ],
 "metadata": {
  "kernelspec": {
   "display_name": "Python 3",
   "language": "python",
   "name": "python3"
  },
  "language_info": {
   "codemirror_mode": {
    "name": "ipython",
    "version": 3
   },
   "file_extension": ".py",
   "mimetype": "text/x-python",
   "name": "python",
   "nbconvert_exporter": "python",
   "pygments_lexer": "ipython3",
   "version": "3.7.4"
  }
 },
 "nbformat": 4,
 "nbformat_minor": 4
}
